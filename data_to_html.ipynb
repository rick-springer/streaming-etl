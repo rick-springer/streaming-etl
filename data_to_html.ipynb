{
 "cells": [
  {
   "cell_type": "code",
   "execution_count": 9,
   "id": "a4dffeb9-c303-4f25-866b-def9154f72b3",
   "metadata": {},
   "outputs": [],
   "source": [
    "import pandas as pd\n",
    "import os"
   ]
  },
  {
   "cell_type": "code",
   "execution_count": 10,
   "id": "a61b5076-268f-47ab-95e5-741ed6faa0d4",
   "metadata": {},
   "outputs": [
    {
     "data": {
      "text/plain": [
       "'C:\\\\Users\\\\theri\\\\Desktop\\\\wallfacer\\\\Project2'"
      ]
     },
     "execution_count": 10,
     "metadata": {},
     "output_type": "execute_result"
    }
   ],
   "source": [
    "os.getcwd()"
   ]
  },
  {
   "cell_type": "code",
   "execution_count": 12,
   "id": "0249331f-a755-4213-9db0-ae4b68ae2d5a",
   "metadata": {},
   "outputs": [],
   "source": [
    "genre_df = pd.read_csv('genres/genres.csv')\n",
    "type_df = pd.read_csv('type/types.csv')\n",
    "year_df = pd.read_csv('years/years_merged.csv')\n",
    "combined_df = pd.read_csv('resources/combined.csv')"
   ]
  },
  {
   "cell_type": "code",
   "execution_count": 13,
   "id": "be3d2bd1-804c-4040-9219-fe910970b084",
   "metadata": {},
   "outputs": [],
   "source": [
    "genre_df.to_html('genres/genre_data.html', index=False)\n",
    "type_df.to_html('type/type_data.html', index=False)\n",
    "year_df.to_html('years/years_data.html', index=False)\n",
    "combined_df.to_html('resources/combined_data.html', index=False)"
   ]
  },
  {
   "cell_type": "code",
   "execution_count": null,
   "id": "a9f7c67d-3cff-4cb6-89c6-5ddb6286909f",
   "metadata": {},
   "outputs": [],
   "source": []
  }
 ],
 "metadata": {
  "kernelspec": {
   "display_name": "Python 3 (ipykernel)",
   "language": "python",
   "name": "python3"
  },
  "language_info": {
   "codemirror_mode": {
    "name": "ipython",
    "version": 3
   },
   "file_extension": ".py",
   "mimetype": "text/x-python",
   "name": "python",
   "nbconvert_exporter": "python",
   "pygments_lexer": "ipython3",
   "version": "3.9.7"
  }
 },
 "nbformat": 4,
 "nbformat_minor": 5
}
