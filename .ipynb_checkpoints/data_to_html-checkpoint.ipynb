{
 "cells": [
  {
   "cell_type": "code",
   "execution_count": 1,
   "id": "a4dffeb9-c303-4f25-866b-def9154f72b3",
   "metadata": {},
   "outputs": [],
   "source": [
    "import pandas as pd"
   ]
  },
  {
   "cell_type": "code",
   "execution_count": 2,
   "id": "0249331f-a755-4213-9db0-ae4b68ae2d5a",
   "metadata": {},
   "outputs": [],
   "source": [
    "genre_df = pd.read_csv('genres/genres.csv')\n",
    "type_df = pd.read_csv('type/types.csv')\n",
    "combined_df = pd.read_csv('resources/combined.csv')"
   ]
  },
  {
   "cell_type": "code",
   "execution_count": 3,
   "id": "be3d2bd1-804c-4040-9219-fe910970b084",
   "metadata": {},
   "outputs": [],
   "source": [
    "genre_df.to_html('genre_data.html', index=False)\n",
    "type_df.to_html('type_data.html', index=False)\n",
    "combined_df.to_html('combined_data.html', index=False)"
   ]
  },
  {
   "cell_type": "code",
   "execution_count": 4,
   "id": "a05ab36d-f398-4909-a526-2aec3ec0e8e2",
   "metadata": {},
   "outputs": [
    {
     "name": "stderr",
     "output_type": "stream",
     "text": [
      "IOPub data rate exceeded.\n",
      "The Jupyter server will temporarily stop sending output\n",
      "to the client in order to avoid crashing it.\n",
      "To change this limit, set the config variable\n",
      "`--ServerApp.iopub_data_rate_limit`.\n",
      "\n",
      "Current values:\n",
      "ServerApp.iopub_data_rate_limit=1000000.0 (bytes/sec)\n",
      "ServerApp.rate_limit_window=3.0 (secs)\n",
      "\n"
     ]
    }
   ],
   "source": [
    "genre_table = genre_df.to_html()\n",
    "print(table)"
   ]
  },
  {
   "cell_type": "code",
   "execution_count": null,
   "id": "d661ff78-63bf-4f18-a5f0-bf9a4842148b",
   "metadata": {},
   "outputs": [],
   "source": []
  }
 ],
 "metadata": {
  "kernelspec": {
   "display_name": "Python 3 (ipykernel)",
   "language": "python",
   "name": "python3"
  },
  "language_info": {
   "codemirror_mode": {
    "name": "ipython",
    "version": 3
   },
   "file_extension": ".py",
   "mimetype": "text/x-python",
   "name": "python",
   "nbconvert_exporter": "python",
   "pygments_lexer": "ipython3",
   "version": "3.9.7"
  }
 },
 "nbformat": 4,
 "nbformat_minor": 5
}
