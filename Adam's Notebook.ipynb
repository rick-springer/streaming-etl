{
 "cells": [
  {
   "cell_type": "code",
   "execution_count": 19,
   "id": "e4c70b91-e732-48be-a084-89549d2d467d",
   "metadata": {},
   "outputs": [],
   "source": [
    "import os\n",
    "import pandas as pd\n",
    "import matplotlib.pyplot as plt\n",
    "import numpy as np\n",
    "import scipy.stats as st\n",
    "import seaborn as sns"
   ]
  },
  {
   "cell_type": "code",
   "execution_count": 20,
   "id": "3492d83f-d25b-45f0-9a00-24c54844d0aa",
   "metadata": {},
   "outputs": [
    {
     "data": {
      "text/plain": [
       "'C:\\\\Users\\\\reyna\\\\OneDrive\\\\Desktop\\\\project_2_files'"
      ]
     },
     "execution_count": 20,
     "metadata": {},
     "output_type": "execute_result"
    }
   ],
   "source": [
    "os.getcwd()"
   ]
  },
  {
   "cell_type": "code",
   "execution_count": 21,
   "id": "6a958c91-49db-4858-8370-92830dbfa5f9",
   "metadata": {},
   "outputs": [],
   "source": [
    "prime_df = pd.read_csv('amazon_prime_titles.csv')\n",
    "disney_df = pd.read_csv('disney_plus_titles.csv')\n",
    "hulu_df = pd.read_csv('hulu_titles.csv')\n",
    "netflix_df = pd.read_csv('netflix_titles.csv')"
   ]
  },
  {
   "cell_type": "code",
   "execution_count": 22,
   "id": "353f15a4-cd25-4178-ba09-ae27b27e016c",
   "metadata": {},
   "outputs": [],
   "source": [
    "disney_df_yr_released = disney_df.copy()\n",
    "prime_df_yr_released = prime_df.copy()\n",
    "hulu_df_yr_released = hulu_df.copy()\n",
    "netflix_df_yr_released = netflix_df.copy()"
   ]
  },
  {
   "cell_type": "code",
   "execution_count": 23,
   "id": "9a671d4c-27e4-4eed-8815-a523025d099a",
   "metadata": {},
   "outputs": [
    {
     "data": {
      "text/html": [
       "<div>\n",
       "<style scoped>\n",
       "    .dataframe tbody tr th:only-of-type {\n",
       "        vertical-align: middle;\n",
       "    }\n",
       "\n",
       "    .dataframe tbody tr th {\n",
       "        vertical-align: top;\n",
       "    }\n",
       "\n",
       "    .dataframe thead th {\n",
       "        text-align: right;\n",
       "    }\n",
       "</style>\n",
       "<table border=\"1\" class=\"dataframe\">\n",
       "  <thead>\n",
       "    <tr style=\"text-align: right;\">\n",
       "      <th></th>\n",
       "      <th>show_id</th>\n",
       "      <th>type</th>\n",
       "      <th>title</th>\n",
       "      <th>director</th>\n",
       "      <th>cast</th>\n",
       "      <th>country</th>\n",
       "      <th>date_added</th>\n",
       "      <th>release_year</th>\n",
       "      <th>rating</th>\n",
       "      <th>duration</th>\n",
       "      <th>listed_in</th>\n",
       "      <th>description</th>\n",
       "    </tr>\n",
       "  </thead>\n",
       "  <tbody>\n",
       "    <tr>\n",
       "      <th>0</th>\n",
       "      <td>s1</td>\n",
       "      <td>Movie</td>\n",
       "      <td>The Grand Seduction</td>\n",
       "      <td>Don McKellar</td>\n",
       "      <td>Brendan Gleeson, Taylor Kitsch, Gordon Pinsent</td>\n",
       "      <td>Canada</td>\n",
       "      <td>March 30, 2021</td>\n",
       "      <td>2014</td>\n",
       "      <td>NaN</td>\n",
       "      <td>113 min</td>\n",
       "      <td>Comedy, Drama</td>\n",
       "      <td>A small fishing village must procure a local d...</td>\n",
       "    </tr>\n",
       "    <tr>\n",
       "      <th>1</th>\n",
       "      <td>s2</td>\n",
       "      <td>Movie</td>\n",
       "      <td>Take Care Good Night</td>\n",
       "      <td>Girish Joshi</td>\n",
       "      <td>Mahesh Manjrekar, Abhay Mahajan, Sachin Khedekar</td>\n",
       "      <td>India</td>\n",
       "      <td>March 30, 2021</td>\n",
       "      <td>2018</td>\n",
       "      <td>13+</td>\n",
       "      <td>110 min</td>\n",
       "      <td>Drama, International</td>\n",
       "      <td>A Metro Family decides to fight a Cyber Crimin...</td>\n",
       "    </tr>\n",
       "    <tr>\n",
       "      <th>2</th>\n",
       "      <td>s3</td>\n",
       "      <td>Movie</td>\n",
       "      <td>Secrets of Deception</td>\n",
       "      <td>Josh Webber</td>\n",
       "      <td>Tom Sizemore, Lorenzo Lamas, Robert LaSardo, R...</td>\n",
       "      <td>United States</td>\n",
       "      <td>March 30, 2021</td>\n",
       "      <td>2017</td>\n",
       "      <td>NaN</td>\n",
       "      <td>74 min</td>\n",
       "      <td>Action, Drama, Suspense</td>\n",
       "      <td>After a man discovers his wife is cheating on ...</td>\n",
       "    </tr>\n",
       "    <tr>\n",
       "      <th>3</th>\n",
       "      <td>s4</td>\n",
       "      <td>Movie</td>\n",
       "      <td>Pink: Staying True</td>\n",
       "      <td>Sonia Anderson</td>\n",
       "      <td>Interviews with: Pink, Adele, Beyoncé, Britney...</td>\n",
       "      <td>United States</td>\n",
       "      <td>March 30, 2021</td>\n",
       "      <td>2014</td>\n",
       "      <td>NaN</td>\n",
       "      <td>69 min</td>\n",
       "      <td>Documentary</td>\n",
       "      <td>Pink breaks the mold once again, bringing her ...</td>\n",
       "    </tr>\n",
       "    <tr>\n",
       "      <th>4</th>\n",
       "      <td>s5</td>\n",
       "      <td>Movie</td>\n",
       "      <td>Monster Maker</td>\n",
       "      <td>Giles Foster</td>\n",
       "      <td>Harry Dean Stanton, Kieran O'Brien, George Cos...</td>\n",
       "      <td>United Kingdom</td>\n",
       "      <td>March 30, 2021</td>\n",
       "      <td>1989</td>\n",
       "      <td>NaN</td>\n",
       "      <td>45 min</td>\n",
       "      <td>Drama, Fantasy</td>\n",
       "      <td>Teenage Matt Banting wants to work with a famo...</td>\n",
       "    </tr>\n",
       "  </tbody>\n",
       "</table>\n",
       "</div>"
      ],
      "text/plain": [
       "  show_id   type                 title        director  \\\n",
       "0      s1  Movie   The Grand Seduction    Don McKellar   \n",
       "1      s2  Movie  Take Care Good Night    Girish Joshi   \n",
       "2      s3  Movie  Secrets of Deception     Josh Webber   \n",
       "3      s4  Movie    Pink: Staying True  Sonia Anderson   \n",
       "4      s5  Movie         Monster Maker    Giles Foster   \n",
       "\n",
       "                                                cast         country  \\\n",
       "0     Brendan Gleeson, Taylor Kitsch, Gordon Pinsent          Canada   \n",
       "1   Mahesh Manjrekar, Abhay Mahajan, Sachin Khedekar           India   \n",
       "2  Tom Sizemore, Lorenzo Lamas, Robert LaSardo, R...   United States   \n",
       "3  Interviews with: Pink, Adele, Beyoncé, Britney...   United States   \n",
       "4  Harry Dean Stanton, Kieran O'Brien, George Cos...  United Kingdom   \n",
       "\n",
       "       date_added  release_year rating duration                listed_in  \\\n",
       "0  March 30, 2021          2014    NaN  113 min            Comedy, Drama   \n",
       "1  March 30, 2021          2018    13+  110 min     Drama, International   \n",
       "2  March 30, 2021          2017    NaN   74 min  Action, Drama, Suspense   \n",
       "3  March 30, 2021          2014    NaN   69 min              Documentary   \n",
       "4  March 30, 2021          1989    NaN   45 min           Drama, Fantasy   \n",
       "\n",
       "                                         description  \n",
       "0  A small fishing village must procure a local d...  \n",
       "1  A Metro Family decides to fight a Cyber Crimin...  \n",
       "2  After a man discovers his wife is cheating on ...  \n",
       "3  Pink breaks the mold once again, bringing her ...  \n",
       "4  Teenage Matt Banting wants to work with a famo...  "
      ]
     },
     "execution_count": 23,
     "metadata": {},
     "output_type": "execute_result"
    }
   ],
   "source": [
    "prime_df.head()"
   ]
  },
  {
   "cell_type": "code",
   "execution_count": 24,
   "id": "04df569f-e6fc-4065-95e5-0b03a6aec8a0",
   "metadata": {},
   "outputs": [],
   "source": [
    "disney_df_new = disney_df.copy()\n",
    "prime_df_new = prime_df.copy()\n",
    "hulu_df_new = hulu_df.copy()\n",
    "netflix_df_new = netflix_df.copy()"
   ]
  },
  {
   "cell_type": "code",
   "execution_count": 25,
   "id": "f10c24d7-64df-4b45-9a44-51487c9b1f63",
   "metadata": {},
   "outputs": [],
   "source": [
    "disney_df_new[['genre1', 'genre2', 'genre3']] = disney_df.listed_in.str.split(',', expand=True)\n",
    "prime_df_new[['genre1', 'genre2', 'genre3', 'genre4', 'genre5']] = prime_df.listed_in.str.split(',', expand=True)\n",
    "hulu_df_new[['genre1', 'genre2', 'genre3']] = hulu_df.listed_in.str.split(',', expand=True)\n",
    "netflix_df_new[['genre1', 'genre2', 'genre3']] = netflix_df.listed_in.str.split(',', expand=True)"
   ]
  },
  {
   "cell_type": "code",
   "execution_count": 26,
   "id": "4771b4c3-fa4e-4b8b-970c-c85f08914ef8",
   "metadata": {},
   "outputs": [
    {
     "data": {
      "text/html": [
       "<div>\n",
       "<style scoped>\n",
       "    .dataframe tbody tr th:only-of-type {\n",
       "        vertical-align: middle;\n",
       "    }\n",
       "\n",
       "    .dataframe tbody tr th {\n",
       "        vertical-align: top;\n",
       "    }\n",
       "\n",
       "    .dataframe thead th {\n",
       "        text-align: right;\n",
       "    }\n",
       "</style>\n",
       "<table border=\"1\" class=\"dataframe\">\n",
       "  <thead>\n",
       "    <tr style=\"text-align: right;\">\n",
       "      <th></th>\n",
       "      <th>show_id</th>\n",
       "      <th>type</th>\n",
       "      <th>title</th>\n",
       "      <th>director</th>\n",
       "      <th>cast</th>\n",
       "      <th>country</th>\n",
       "      <th>date_added</th>\n",
       "      <th>release_year</th>\n",
       "      <th>rating</th>\n",
       "      <th>duration</th>\n",
       "      <th>listed_in</th>\n",
       "      <th>description</th>\n",
       "      <th>genre1</th>\n",
       "      <th>genre2</th>\n",
       "      <th>genre3</th>\n",
       "      <th>genre4</th>\n",
       "      <th>genre5</th>\n",
       "    </tr>\n",
       "  </thead>\n",
       "  <tbody>\n",
       "    <tr>\n",
       "      <th>0</th>\n",
       "      <td>s1</td>\n",
       "      <td>Movie</td>\n",
       "      <td>The Grand Seduction</td>\n",
       "      <td>Don McKellar</td>\n",
       "      <td>Brendan Gleeson, Taylor Kitsch, Gordon Pinsent</td>\n",
       "      <td>Canada</td>\n",
       "      <td>March 30, 2021</td>\n",
       "      <td>2014</td>\n",
       "      <td>NaN</td>\n",
       "      <td>113 min</td>\n",
       "      <td>Comedy, Drama</td>\n",
       "      <td>A small fishing village must procure a local d...</td>\n",
       "      <td>Comedy</td>\n",
       "      <td>Drama</td>\n",
       "      <td>None</td>\n",
       "      <td>None</td>\n",
       "      <td>None</td>\n",
       "    </tr>\n",
       "    <tr>\n",
       "      <th>1</th>\n",
       "      <td>s2</td>\n",
       "      <td>Movie</td>\n",
       "      <td>Take Care Good Night</td>\n",
       "      <td>Girish Joshi</td>\n",
       "      <td>Mahesh Manjrekar, Abhay Mahajan, Sachin Khedekar</td>\n",
       "      <td>India</td>\n",
       "      <td>March 30, 2021</td>\n",
       "      <td>2018</td>\n",
       "      <td>13+</td>\n",
       "      <td>110 min</td>\n",
       "      <td>Drama, International</td>\n",
       "      <td>A Metro Family decides to fight a Cyber Crimin...</td>\n",
       "      <td>Drama</td>\n",
       "      <td>International</td>\n",
       "      <td>None</td>\n",
       "      <td>None</td>\n",
       "      <td>None</td>\n",
       "    </tr>\n",
       "    <tr>\n",
       "      <th>2</th>\n",
       "      <td>s3</td>\n",
       "      <td>Movie</td>\n",
       "      <td>Secrets of Deception</td>\n",
       "      <td>Josh Webber</td>\n",
       "      <td>Tom Sizemore, Lorenzo Lamas, Robert LaSardo, R...</td>\n",
       "      <td>United States</td>\n",
       "      <td>March 30, 2021</td>\n",
       "      <td>2017</td>\n",
       "      <td>NaN</td>\n",
       "      <td>74 min</td>\n",
       "      <td>Action, Drama, Suspense</td>\n",
       "      <td>After a man discovers his wife is cheating on ...</td>\n",
       "      <td>Action</td>\n",
       "      <td>Drama</td>\n",
       "      <td>Suspense</td>\n",
       "      <td>None</td>\n",
       "      <td>None</td>\n",
       "    </tr>\n",
       "    <tr>\n",
       "      <th>3</th>\n",
       "      <td>s4</td>\n",
       "      <td>Movie</td>\n",
       "      <td>Pink: Staying True</td>\n",
       "      <td>Sonia Anderson</td>\n",
       "      <td>Interviews with: Pink, Adele, Beyoncé, Britney...</td>\n",
       "      <td>United States</td>\n",
       "      <td>March 30, 2021</td>\n",
       "      <td>2014</td>\n",
       "      <td>NaN</td>\n",
       "      <td>69 min</td>\n",
       "      <td>Documentary</td>\n",
       "      <td>Pink breaks the mold once again, bringing her ...</td>\n",
       "      <td>Documentary</td>\n",
       "      <td>None</td>\n",
       "      <td>None</td>\n",
       "      <td>None</td>\n",
       "      <td>None</td>\n",
       "    </tr>\n",
       "    <tr>\n",
       "      <th>4</th>\n",
       "      <td>s5</td>\n",
       "      <td>Movie</td>\n",
       "      <td>Monster Maker</td>\n",
       "      <td>Giles Foster</td>\n",
       "      <td>Harry Dean Stanton, Kieran O'Brien, George Cos...</td>\n",
       "      <td>United Kingdom</td>\n",
       "      <td>March 30, 2021</td>\n",
       "      <td>1989</td>\n",
       "      <td>NaN</td>\n",
       "      <td>45 min</td>\n",
       "      <td>Drama, Fantasy</td>\n",
       "      <td>Teenage Matt Banting wants to work with a famo...</td>\n",
       "      <td>Drama</td>\n",
       "      <td>Fantasy</td>\n",
       "      <td>None</td>\n",
       "      <td>None</td>\n",
       "      <td>None</td>\n",
       "    </tr>\n",
       "  </tbody>\n",
       "</table>\n",
       "</div>"
      ],
      "text/plain": [
       "  show_id   type                 title        director  \\\n",
       "0      s1  Movie   The Grand Seduction    Don McKellar   \n",
       "1      s2  Movie  Take Care Good Night    Girish Joshi   \n",
       "2      s3  Movie  Secrets of Deception     Josh Webber   \n",
       "3      s4  Movie    Pink: Staying True  Sonia Anderson   \n",
       "4      s5  Movie         Monster Maker    Giles Foster   \n",
       "\n",
       "                                                cast         country  \\\n",
       "0     Brendan Gleeson, Taylor Kitsch, Gordon Pinsent          Canada   \n",
       "1   Mahesh Manjrekar, Abhay Mahajan, Sachin Khedekar           India   \n",
       "2  Tom Sizemore, Lorenzo Lamas, Robert LaSardo, R...   United States   \n",
       "3  Interviews with: Pink, Adele, Beyoncé, Britney...   United States   \n",
       "4  Harry Dean Stanton, Kieran O'Brien, George Cos...  United Kingdom   \n",
       "\n",
       "       date_added  release_year rating duration                listed_in  \\\n",
       "0  March 30, 2021          2014    NaN  113 min            Comedy, Drama   \n",
       "1  March 30, 2021          2018    13+  110 min     Drama, International   \n",
       "2  March 30, 2021          2017    NaN   74 min  Action, Drama, Suspense   \n",
       "3  March 30, 2021          2014    NaN   69 min              Documentary   \n",
       "4  March 30, 2021          1989    NaN   45 min           Drama, Fantasy   \n",
       "\n",
       "                                         description       genre1  \\\n",
       "0  A small fishing village must procure a local d...       Comedy   \n",
       "1  A Metro Family decides to fight a Cyber Crimin...        Drama   \n",
       "2  After a man discovers his wife is cheating on ...       Action   \n",
       "3  Pink breaks the mold once again, bringing her ...  Documentary   \n",
       "4  Teenage Matt Banting wants to work with a famo...        Drama   \n",
       "\n",
       "           genre2     genre3 genre4 genre5  \n",
       "0           Drama       None   None   None  \n",
       "1   International       None   None   None  \n",
       "2           Drama   Suspense   None   None  \n",
       "3            None       None   None   None  \n",
       "4         Fantasy       None   None   None  "
      ]
     },
     "execution_count": 26,
     "metadata": {},
     "output_type": "execute_result"
    }
   ],
   "source": [
    "prime_df_new.head()"
   ]
  },
  {
   "cell_type": "code",
   "execution_count": 27,
   "id": "6ae04a6f-c579-4c6f-ad04-9f3c72bf4372",
   "metadata": {},
   "outputs": [],
   "source": [
    "netflix_df_new.drop(['show_id', \n",
    "                     'director', \n",
    "                     'cast', \n",
    "                     'country', \n",
    "                     'date_added',\n",
    "                     'rating',\n",
    "                     'duration',\n",
    "                     'listed_in',\n",
    "                     'genre1',\n",
    "                     'genre2',\n",
    "                     'genre3',\n",
    "                     'description'], axis=1, inplace=True)"
   ]
  },
  {
   "cell_type": "code",
   "execution_count": 28,
   "id": "1995f36b-2c67-49b0-bab4-4c3c4c381fa4",
   "metadata": {},
   "outputs": [
    {
     "data": {
      "text/html": [
       "<div>\n",
       "<style scoped>\n",
       "    .dataframe tbody tr th:only-of-type {\n",
       "        vertical-align: middle;\n",
       "    }\n",
       "\n",
       "    .dataframe tbody tr th {\n",
       "        vertical-align: top;\n",
       "    }\n",
       "\n",
       "    .dataframe thead th {\n",
       "        text-align: right;\n",
       "    }\n",
       "</style>\n",
       "<table border=\"1\" class=\"dataframe\">\n",
       "  <thead>\n",
       "    <tr style=\"text-align: right;\">\n",
       "      <th></th>\n",
       "      <th>type</th>\n",
       "      <th>title</th>\n",
       "      <th>release_year</th>\n",
       "    </tr>\n",
       "  </thead>\n",
       "  <tbody>\n",
       "    <tr>\n",
       "      <th>0</th>\n",
       "      <td>Movie</td>\n",
       "      <td>Dick Johnson Is Dead</td>\n",
       "      <td>2020</td>\n",
       "    </tr>\n",
       "    <tr>\n",
       "      <th>1</th>\n",
       "      <td>TV Show</td>\n",
       "      <td>Blood &amp; Water</td>\n",
       "      <td>2021</td>\n",
       "    </tr>\n",
       "    <tr>\n",
       "      <th>2</th>\n",
       "      <td>TV Show</td>\n",
       "      <td>Ganglands</td>\n",
       "      <td>2021</td>\n",
       "    </tr>\n",
       "    <tr>\n",
       "      <th>3</th>\n",
       "      <td>TV Show</td>\n",
       "      <td>Jailbirds New Orleans</td>\n",
       "      <td>2021</td>\n",
       "    </tr>\n",
       "    <tr>\n",
       "      <th>4</th>\n",
       "      <td>TV Show</td>\n",
       "      <td>Kota Factory</td>\n",
       "      <td>2021</td>\n",
       "    </tr>\n",
       "  </tbody>\n",
       "</table>\n",
       "</div>"
      ],
      "text/plain": [
       "      type                  title  release_year\n",
       "0    Movie   Dick Johnson Is Dead          2020\n",
       "1  TV Show          Blood & Water          2021\n",
       "2  TV Show              Ganglands          2021\n",
       "3  TV Show  Jailbirds New Orleans          2021\n",
       "4  TV Show           Kota Factory          2021"
      ]
     },
     "execution_count": 28,
     "metadata": {},
     "output_type": "execute_result"
    }
   ],
   "source": [
    "netflix_df_new.head()"
   ]
  },
  {
   "cell_type": "code",
   "execution_count": 29,
   "id": "5a8c6dab-d88d-4634-8f64-27966ca91ce9",
   "metadata": {},
   "outputs": [],
   "source": [
    "hulu_df_new.drop(['show_id', \n",
    "                     'director', \n",
    "                     'cast', \n",
    "                     'country', \n",
    "                     'date_added',\n",
    "                     'rating',\n",
    "                     'duration',\n",
    "                     'listed_in',\n",
    "                     'genre1',\n",
    "                     'genre2',\n",
    "                     'genre3',\n",
    "                     'description'], axis=1, inplace=True)"
   ]
  },
  {
   "cell_type": "code",
   "execution_count": 30,
   "id": "33a31bcb-f2c3-425e-b04a-7188f7a6f288",
   "metadata": {},
   "outputs": [],
   "source": [
    "disney_df_new.drop(['show_id', \n",
    "                     'director', \n",
    "                     'cast', \n",
    "                     'country', \n",
    "                     'date_added',\n",
    "                     'rating',\n",
    "                     'duration',\n",
    "                     'listed_in',\n",
    "                     'genre1',\n",
    "                     'genre2',\n",
    "                     'genre3',\n",
    "                     'description'], axis=1, inplace=True)"
   ]
  },
  {
   "cell_type": "code",
   "execution_count": 31,
   "id": "65740c05-d736-4b3c-bef9-705419120753",
   "metadata": {},
   "outputs": [],
   "source": [
    "prime_df_new.drop(['show_id', \n",
    "                     'director', \n",
    "                     'cast', \n",
    "                     'country', \n",
    "                     'date_added',\n",
    "                     'rating',\n",
    "                     'duration',\n",
    "                     'listed_in',\n",
    "                     'genre1',\n",
    "                     'genre2',\n",
    "                     'genre3',\n",
    "                     'description'], axis=1, inplace=True)"
   ]
  },
  {
   "cell_type": "code",
   "execution_count": 32,
   "id": "18589def-f628-4248-8ccf-55b526900963",
   "metadata": {},
   "outputs": [],
   "source": [
    "prime_df_yr_released.drop(['show_id', \n",
    "                     'director', \n",
    "                     'cast', \n",
    "                     'country', \n",
    "                     'date_added',\n",
    "                     'rating',\n",
    "                     'duration',\n",
    "                     'listed_in',\n",
    "                     'description'], axis=1, inplace=True)"
   ]
  },
  {
   "cell_type": "code",
   "execution_count": 33,
   "id": "47bf8e9d-56c7-427e-8ec7-38bfc8022286",
   "metadata": {},
   "outputs": [],
   "source": [
    "netflix_df_yr_released.drop(['show_id', \n",
    "                     'director', \n",
    "                     'cast', \n",
    "                     'country', \n",
    "                     'date_added',\n",
    "                     'rating',\n",
    "                     'duration',\n",
    "                     'listed_in',\n",
    "                     'description'], axis=1, inplace=True)"
   ]
  },
  {
   "cell_type": "code",
   "execution_count": 34,
   "id": "96be4caa-cd63-433b-b155-b729ee0431ae",
   "metadata": {},
   "outputs": [],
   "source": [
    "disney_df_yr_released.drop(['show_id', \n",
    "                     'director', \n",
    "                     'cast', \n",
    "                     'country', \n",
    "                     'date_added',\n",
    "                     'rating',\n",
    "                     'duration',\n",
    "                     'listed_in',\n",
    "                     'description'], axis=1, inplace=True)"
   ]
  },
  {
   "cell_type": "code",
   "execution_count": 35,
   "id": "73e609e4-a197-4590-8dd2-3f658b009bfc",
   "metadata": {},
   "outputs": [],
   "source": [
    "hulu_df_yr_released.drop(['show_id', \n",
    "                     'director', \n",
    "                     'cast', \n",
    "                     'country', \n",
    "                     'date_added',\n",
    "                     'rating',\n",
    "                     'duration',\n",
    "                     'listed_in',\n",
    "                     'description'], axis=1, inplace=True)"
   ]
  },
  {
   "cell_type": "code",
   "execution_count": 37,
   "id": "1adafaec-b521-4675-9e60-c6679d335bf5",
   "metadata": {},
   "outputs": [
    {
     "data": {
      "text/html": [
       "<div>\n",
       "<style scoped>\n",
       "    .dataframe tbody tr th:only-of-type {\n",
       "        vertical-align: middle;\n",
       "    }\n",
       "\n",
       "    .dataframe tbody tr th {\n",
       "        vertical-align: top;\n",
       "    }\n",
       "\n",
       "    .dataframe thead th {\n",
       "        text-align: right;\n",
       "    }\n",
       "</style>\n",
       "<table border=\"1\" class=\"dataframe\">\n",
       "  <thead>\n",
       "    <tr style=\"text-align: right;\">\n",
       "      <th></th>\n",
       "      <th>type</th>\n",
       "      <th>title</th>\n",
       "      <th>release_year</th>\n",
       "    </tr>\n",
       "  </thead>\n",
       "  <tbody>\n",
       "    <tr>\n",
       "      <th>0</th>\n",
       "      <td>Movie</td>\n",
       "      <td>Ricky Velez: Here's Everything</td>\n",
       "      <td>2021</td>\n",
       "    </tr>\n",
       "    <tr>\n",
       "      <th>1</th>\n",
       "      <td>Movie</td>\n",
       "      <td>Silent Night</td>\n",
       "      <td>2020</td>\n",
       "    </tr>\n",
       "    <tr>\n",
       "      <th>2</th>\n",
       "      <td>Movie</td>\n",
       "      <td>The Marksman</td>\n",
       "      <td>2021</td>\n",
       "    </tr>\n",
       "    <tr>\n",
       "      <th>3</th>\n",
       "      <td>Movie</td>\n",
       "      <td>Gaia</td>\n",
       "      <td>2021</td>\n",
       "    </tr>\n",
       "    <tr>\n",
       "      <th>4</th>\n",
       "      <td>Movie</td>\n",
       "      <td>Settlers</td>\n",
       "      <td>2021</td>\n",
       "    </tr>\n",
       "  </tbody>\n",
       "</table>\n",
       "</div>"
      ],
      "text/plain": [
       "    type                           title  release_year\n",
       "0  Movie  Ricky Velez: Here's Everything          2021\n",
       "1  Movie                    Silent Night          2020\n",
       "2  Movie                    The Marksman          2021\n",
       "3  Movie                            Gaia          2021\n",
       "4  Movie                        Settlers          2021"
      ]
     },
     "execution_count": 37,
     "metadata": {},
     "output_type": "execute_result"
    }
   ],
   "source": [
    "hulu_df_new.head()"
   ]
  },
  {
   "cell_type": "code",
   "execution_count": 38,
   "id": "8a485016-31e2-499d-aa39-f6125879c948",
   "metadata": {},
   "outputs": [
    {
     "name": "stdout",
     "output_type": "stream",
     "text": [
      "<class 'pandas.core.frame.DataFrame'>\n",
      "RangeIndex: 3073 entries, 0 to 3072\n",
      "Data columns (total 3 columns):\n",
      " #   Column        Non-Null Count  Dtype \n",
      "---  ------        --------------  ----- \n",
      " 0   type          3073 non-null   object\n",
      " 1   title         3073 non-null   object\n",
      " 2   release_year  3073 non-null   int64 \n",
      "dtypes: int64(1), object(2)\n",
      "memory usage: 72.1+ KB\n"
     ]
    }
   ],
   "source": [
    "hulu_df_new.info()"
   ]
  },
  {
   "cell_type": "code",
   "execution_count": 39,
   "id": "d4bfbb3a-3fbd-413b-bf8c-c6a667dd316d",
   "metadata": {},
   "outputs": [],
   "source": [
    "bins = [1940, 1959, 1969, 1979, 1989, 1999, 2009, 2019, 2022]\n",
    "labels = ['1950-1959', '1960-1969', '1970-1979', '1980-1989','1990-1999','2000-2009','2010-2019', '2020-2022']\n",
    "hulu_df_new['Date Bin'] = pd.cut(hulu_df_new.release_year, bins, labels=labels, right=False)"
   ]
  },
  {
   "cell_type": "code",
   "execution_count": 40,
   "id": "2ce9a5ab-46dc-44cf-9ded-19fb40d86c6d",
   "metadata": {},
   "outputs": [],
   "source": [
    "bins = [1940, 1959, 1969, 1979, 1989, 1999, 2009, 2019, 2022]\n",
    "labels = ['1950-1959', '1960-1969', '1970-1979', '1980-1989','1990-1999','2000-2009','2010-2019', '2020-2022']\n",
    "disney_df_new['Date Bin'] = pd.cut(disney_df_new.release_year, bins, labels=labels, right=False)"
   ]
  },
  {
   "cell_type": "code",
   "execution_count": 41,
   "id": "a2339795-7209-4659-ae7a-c0252001bc6e",
   "metadata": {},
   "outputs": [],
   "source": [
    "bins = [1940, 1959, 1969, 1979, 1989, 1999, 2009, 2019, 2022]\n",
    "labels = ['1950-1959', '1960-1969', '1970-1979', '1980-1989','1990-1999','2000-2009','2010-2019', '2020-2022']\n",
    "netflix_df_new['Date Bin'] = pd.cut(netflix_df_new.release_year, bins, labels=labels, right=False)"
   ]
  },
  {
   "cell_type": "code",
   "execution_count": 42,
   "id": "db46cd7f-52d1-4059-aabf-56c7ea0a7e29",
   "metadata": {},
   "outputs": [],
   "source": [
    "bins = [1940, 1959, 1969, 1979, 1989, 1999, 2009, 2019, 2022]\n",
    "labels = ['1950-1959', '1960-1969', '1970-1979', '1980-1989','1990-1999','2000-2009','2010-2019', '2020-2022']\n",
    "prime_df_new['Date Bin'] = pd.cut(prime_df_new.release_year, bins, labels=labels, right=False)"
   ]
  },
  {
   "cell_type": "code",
   "execution_count": 43,
   "id": "cd61fb10-663d-476d-b4d9-dbbb44585fd4",
   "metadata": {},
   "outputs": [
    {
     "data": {
      "text/html": [
       "<div>\n",
       "<style scoped>\n",
       "    .dataframe tbody tr th:only-of-type {\n",
       "        vertical-align: middle;\n",
       "    }\n",
       "\n",
       "    .dataframe tbody tr th {\n",
       "        vertical-align: top;\n",
       "    }\n",
       "\n",
       "    .dataframe thead th {\n",
       "        text-align: right;\n",
       "    }\n",
       "</style>\n",
       "<table border=\"1\" class=\"dataframe\">\n",
       "  <thead>\n",
       "    <tr style=\"text-align: right;\">\n",
       "      <th></th>\n",
       "      <th>type</th>\n",
       "      <th>title</th>\n",
       "      <th>release_year</th>\n",
       "      <th>Date Bin</th>\n",
       "    </tr>\n",
       "  </thead>\n",
       "  <tbody>\n",
       "    <tr>\n",
       "      <th>0</th>\n",
       "      <td>Movie</td>\n",
       "      <td>Ricky Velez: Here's Everything</td>\n",
       "      <td>2021</td>\n",
       "      <td>2020-2022</td>\n",
       "    </tr>\n",
       "    <tr>\n",
       "      <th>1</th>\n",
       "      <td>Movie</td>\n",
       "      <td>Silent Night</td>\n",
       "      <td>2020</td>\n",
       "      <td>2020-2022</td>\n",
       "    </tr>\n",
       "    <tr>\n",
       "      <th>2</th>\n",
       "      <td>Movie</td>\n",
       "      <td>The Marksman</td>\n",
       "      <td>2021</td>\n",
       "      <td>2020-2022</td>\n",
       "    </tr>\n",
       "    <tr>\n",
       "      <th>3</th>\n",
       "      <td>Movie</td>\n",
       "      <td>Gaia</td>\n",
       "      <td>2021</td>\n",
       "      <td>2020-2022</td>\n",
       "    </tr>\n",
       "    <tr>\n",
       "      <th>4</th>\n",
       "      <td>Movie</td>\n",
       "      <td>Settlers</td>\n",
       "      <td>2021</td>\n",
       "      <td>2020-2022</td>\n",
       "    </tr>\n",
       "  </tbody>\n",
       "</table>\n",
       "</div>"
      ],
      "text/plain": [
       "    type                           title  release_year   Date Bin\n",
       "0  Movie  Ricky Velez: Here's Everything          2021  2020-2022\n",
       "1  Movie                    Silent Night          2020  2020-2022\n",
       "2  Movie                    The Marksman          2021  2020-2022\n",
       "3  Movie                            Gaia          2021  2020-2022\n",
       "4  Movie                        Settlers          2021  2020-2022"
      ]
     },
     "execution_count": 43,
     "metadata": {},
     "output_type": "execute_result"
    }
   ],
   "source": [
    "hulu_df_new.head()"
   ]
  },
  {
   "cell_type": "code",
   "execution_count": 50,
   "id": "52dc2f29-a62e-4d43-97f4-9035e265b3ce",
   "metadata": {},
   "outputs": [
    {
     "data": {
      "text/plain": [
       "Text(0, 0.5, 'Number Released')"
      ]
     },
     "execution_count": 50,
     "metadata": {},
     "output_type": "execute_result"
    },
    {
     "data": {
      "image/png": "[encoded data removed]",
      "text/plain": [
       "<Figure size 432x288 with 1 Axes>"
      ]
     },
     "metadata": {
      "needs_background": "light"
     },
     "output_type": "display_data"
    }
   ],
   "source": [
    "hulu_bar_chart=hulu_df_new.value_counts(['Date Bin'])\n",
    "hulu_bar_chart=hulu_bar_chart.plot.bar(rot='vertical',title='Release Year')\n",
    "hulu_bar_chart.set_xlabel(\"Year\")\n",
    "hulu_bar_chart.set_ylabel(\"Number Released\") "
   ]
  },
  {
   "cell_type": "code",
   "execution_count": 62,
   "id": "6a371913-4406-471b-aaef-e1dc672126de",
   "metadata": {},
   "outputs": [
    {
     "data": {
      "image/png": "[encoded data removed]",
      "text/plain": [
       "<Figure size 1080x576 with 1 Axes>"
      ]
     },
     "metadata": {
      "needs_background": "light"
     },
     "output_type": "display_data"
    }
   ],
   "source": [
    "hulu_chart = hulu_df_new['Date Bin'].value_counts()\n",
    "hulu_chart = pd.DataFrame(hulu_chart)\n",
    "hulu_chart = hulu_chart.reset_index()\n",
    "hulu_chart = hulu_chart.sort_values('index')\n",
    "hulu_chart = hulu_chart.set_index('index')\n",
    "hulu_chart.plot(kind='line',color=\"blue\",marker = 'o',markeredgecolor='black',markersize=12,linewidth=3,figsize=(15,8),legend=False,grid=True,)\n",
    "plt.xticks(size=13, rotation=0)\n",
    "plt.yticks(size=12)\n",
    "plt.ylabel(\"Amount Released\", size=16)\n",
    "plt.xlabel(\"Timeframe\", size=16)\n",
    "plt.title(\"Number of Shows Through the Years\", size=25)\n",
    "plt.savefig(\"years/hulu_years.jpg\")"
   ]
  },
  {
   "cell_type": "code",
   "execution_count": 63,
   "id": "3e0f6354-7ce8-4720-a4ae-b128a3a4a276",
   "metadata": {},
   "outputs": [
    {
     "data": {
      "image/png": "[encoded data removed]",
      "text/plain": [
       "<Figure size 1080x576 with 1 Axes>"
      ]
     },
     "metadata": {
      "needs_background": "light"
     },
     "output_type": "display_data"
    }
   ],
   "source": [
    "netflix_chart = netflix_df_new['Date Bin'].value_counts()\n",
    "netflix_chart = pd.DataFrame(netflix_chart)\n",
    "netflix_chart = netflix_chart.reset_index()\n",
    "netflix_chart = netflix_chart.sort_values('index')\n",
    "netflix_chart = netflix_chart.set_index('index')\n",
    "netflix_chart.plot(kind='line',color=\"blue\",marker = 'o' , markeredgecolor='black',markersize=12,linewidth=3, figsize=(15,8),legend=False,grid=True,)\n",
    "plt.xticks(size=13, rotation=0)\n",
    "plt.yticks(size=12)\n",
    "plt.ylabel(\"Amount Released\", size=16)\n",
    "plt.xlabel(\"Timeframe\", size=16)\n",
    "plt.title(\"Number of Shows Through the Years\", size=25)\n",
    "plt.savefig(\"years/netflix_years.jpg\")"
   ]
  },
  {
   "cell_type": "code",
   "execution_count": 64,
   "id": "b838e6b6-19a3-4274-96c2-8218bdb17f6e",
   "metadata": {},
   "outputs": [
    {
     "data": {
      "image/png": "[encoded data removed]",
      "text/plain": [
       "<Figure size 1080x576 with 1 Axes>"
      ]
     },
     "metadata": {
      "needs_background": "light"
     },
     "output_type": "display_data"
    }
   ],
   "source": [
    "disney_chart = disney_df_new['Date Bin'].value_counts()\n",
    "disney_chart = pd.DataFrame(disney_chart)\n",
    "disney_chart = disney_chart.reset_index()\n",
    "disney_chart = disney_chart.sort_values('index')\n",
    "disney_chart = disney_chart.set_index('index')\n",
    "disney_chart.plot(kind='line',color=\"blue\",marker = 'o' , markeredgecolor='black',markersize=12,linewidth=3, figsize=(15,8),legend=False,grid=True,)\n",
    "plt.xticks(size=13, rotation=0)\n",
    "plt.yticks(size=12)\n",
    "plt.ylabel(\"Amount Released\", size=16)\n",
    "plt.xlabel(\"Timeframe\", size=16)\n",
    "plt.title(\"Number of Shows Through the Years\", size=25)\n",
    "plt.savefig(\"years/disney_years.jpg\")"
   ]
  },
  {
   "cell_type": "code",
   "execution_count": 65,
   "id": "b55c6781-79b0-452b-a670-a516cebd08d1",
   "metadata": {},
   "outputs": [
    {
     "data": {
      "image/png": "[encoded data removed]",
      "text/plain": [
       "<Figure size 1080x576 with 1 Axes>"
      ]
     },
     "metadata": {
      "needs_background": "light"
     },
     "output_type": "display_data"
    }
   ],
   "source": [
    "prime_chart = prime_df_new['Date Bin'].value_counts()\n",
    "prime_chart = pd.DataFrame(prime_chart)\n",
    "prime_chart = prime_chart.reset_index()\n",
    "prime_chart = prime_chart.sort_values('index')\n",
    "prime_chart = prime_chart.set_index('index')\n",
    "prime_chart.plot(kind='line',color=\"blue\",marker = 'o' , markeredgecolor='black',markersize=12,linewidth=3, figsize=(15,8),legend=False,grid=True,)\n",
    "plt.xticks(size=13, rotation=0)\n",
    "plt.yticks(size=12)\n",
    "plt.ylabel(\"Amount Released\", size=16)\n",
    "plt.xlabel(\"Timeframe\", size=16)\n",
    "plt.title(\"Number of Shows Through the Years\", size=25)\n",
    "plt.savefig(\"years/prime_years.jpg\")"
   ]
  },
  {
   "cell_type": "code",
   "execution_count": 67,
   "id": "fef7cbf4-c0e6-490d-ad99-f6dc1f23b884",
   "metadata": {},
   "outputs": [],
   "source": [
    "disney_df_rating = disney_df.copy()\n",
    "prime_df_rating = prime_df.copy()\n",
    "hulu_df_rating = hulu_df.copy()\n",
    "netflix_df_rating = netflix_df.copy()"
   ]
  },
  {
   "cell_type": "code",
   "execution_count": 68,
   "id": "5e7306b7-13d0-43af-b704-e0c25997ae2f",
   "metadata": {},
   "outputs": [],
   "source": [
    "netflix_df_rating.drop(['show_id', \n",
    "                     'director', \n",
    "                     'cast', \n",
    "                     'country', \n",
    "                     'date_added',\n",
    "                     'duration',\n",
    "                     'release_year',\n",
    "                     'listed_in',\n",
    "                     'description'], axis=1, inplace=True)"
   ]
  },
  {
   "cell_type": "code",
   "execution_count": 69,
   "id": "ff1348c8-8526-4073-8366-ee27d42ba64d",
   "metadata": {},
   "outputs": [],
   "source": [
    "prime_df_rating.drop(['show_id', \n",
    "                     'director', \n",
    "                     'cast', \n",
    "                     'country', \n",
    "                     'date_added',\n",
    "                     'duration',\n",
    "                     'release_year',\n",
    "                     'listed_in',\n",
    "                     'description'], axis=1, inplace=True)"
   ]
  },
  {
   "cell_type": "code",
   "execution_count": 70,
   "id": "b832ce6b-94e1-4149-883d-c132bdab6344",
   "metadata": {},
   "outputs": [],
   "source": [
    "disney_df_rating.drop(['show_id', \n",
    "                     'director', \n",
    "                     'cast', \n",
    "                     'country', \n",
    "                     'date_added',\n",
    "                     'duration',\n",
    "                     'release_year',\n",
    "                     'listed_in',\n",
    "                     'description'], axis=1, inplace=True)"
   ]
  },
  {
   "cell_type": "code",
   "execution_count": 71,
   "id": "137dda1d-d6f9-4a77-ab8b-4986d9fec530",
   "metadata": {},
   "outputs": [],
   "source": [
    "hulu_df_rating.drop(['show_id', \n",
    "                     'director', \n",
    "                     'cast', \n",
    "                     'country', \n",
    "                     'date_added',\n",
    "                     'duration',\n",
    "                     'release_year',\n",
    "                     'listed_in',\n",
    "                     'description'], axis=1, inplace=True)"
   ]
  },
  {
   "cell_type": "code",
   "execution_count": 72,
   "id": "dd111811-02bd-4cf4-a293-afe34677cf6c",
   "metadata": {},
   "outputs": [
    {
     "data": {
      "text/html": [
       "<div>\n",
       "<style scoped>\n",
       "    .dataframe tbody tr th:only-of-type {\n",
       "        vertical-align: middle;\n",
       "    }\n",
       "\n",
       "    .dataframe tbody tr th {\n",
       "        vertical-align: top;\n",
       "    }\n",
       "\n",
       "    .dataframe thead th {\n",
       "        text-align: right;\n",
       "    }\n",
       "</style>\n",
       "<table border=\"1\" class=\"dataframe\">\n",
       "  <thead>\n",
       "    <tr style=\"text-align: right;\">\n",
       "      <th></th>\n",
       "      <th>type</th>\n",
       "      <th>title</th>\n",
       "      <th>rating</th>\n",
       "    </tr>\n",
       "  </thead>\n",
       "  <tbody>\n",
       "    <tr>\n",
       "      <th>0</th>\n",
       "      <td>Movie</td>\n",
       "      <td>Ricky Velez: Here's Everything</td>\n",
       "      <td>TV-MA</td>\n",
       "    </tr>\n",
       "    <tr>\n",
       "      <th>1</th>\n",
       "      <td>Movie</td>\n",
       "      <td>Silent Night</td>\n",
       "      <td>NaN</td>\n",
       "    </tr>\n",
       "    <tr>\n",
       "      <th>2</th>\n",
       "      <td>Movie</td>\n",
       "      <td>The Marksman</td>\n",
       "      <td>PG-13</td>\n",
       "    </tr>\n",
       "    <tr>\n",
       "      <th>3</th>\n",
       "      <td>Movie</td>\n",
       "      <td>Gaia</td>\n",
       "      <td>R</td>\n",
       "    </tr>\n",
       "    <tr>\n",
       "      <th>4</th>\n",
       "      <td>Movie</td>\n",
       "      <td>Settlers</td>\n",
       "      <td>NaN</td>\n",
       "    </tr>\n",
       "  </tbody>\n",
       "</table>\n",
       "</div>"
      ],
      "text/plain": [
       "    type                           title rating\n",
       "0  Movie  Ricky Velez: Here's Everything  TV-MA\n",
       "1  Movie                    Silent Night    NaN\n",
       "2  Movie                    The Marksman  PG-13\n",
       "3  Movie                            Gaia      R\n",
       "4  Movie                        Settlers    NaN"
      ]
     },
     "execution_count": 72,
     "metadata": {},
     "output_type": "execute_result"
    }
   ],
   "source": [
    "hulu_df_rating.head()"
   ]
  },
  {
   "cell_type": "code",
   "execution_count": null,
   "id": "ce81ba6f-8308-440e-bc8c-0473c44c9bf5",
   "metadata": {},
   "outputs": [],
   "source": []
  }
 ],
 "metadata": {
  "kernelspec": {
   "display_name": "Python 3 (ipykernel)",
   "language": "python",
   "name": "python3"
  },
  "language_info": {
   "codemirror_mode": {
    "name": "ipython",
    "version": 3
   },
   "file_extension": ".py",
   "mimetype": "text/x-python",
   "name": "python",
   "nbconvert_exporter": "python",
   "pygments_lexer": "ipython3",
   "version": "3.9.7"
  }
 },
 "nbformat": 4,
 "nbformat_minor": 5
}
